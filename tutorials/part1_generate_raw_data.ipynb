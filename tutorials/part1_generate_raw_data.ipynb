{
 "cells": [
  {
   "cell_type": "markdown",
   "id": "4332c8f2",
   "metadata": {},
   "source": [
    "Generating Raw Data Workshop\n",
    "==========================\n",
    "\n",
    "The `litl_simulator` python package does 2 things. First it generates raw data using the CARLA simulation environment. Secondly, it processes this raw data into waveforms which it then feeds to a simulated DSP that transforms them into a 3D point cloud + intensities. This notebook is dedicated to the first part which also explains how to setup CARLA.\n",
    "\n",
    "\n",
    "Setup CARLA\n",
    "--------------------\n",
    "\n",
    "We are using a customized version of CARLA in order to be able to return a fixed size raw point cloud array. Also, there is a customized shader within it that is used to compute realistic point cloud intensities. Everything has been compiled into a docker image (see README for download link).\n",
    " \n",
    "After a decade of download, you should be able to run the image straightforwardly. But first (on ubuntu), you need to allow the docker container to access the xhost. Then, you can boot the docker container which should display the default city (see image below).\n",
    "\n",
    "```console\n",
    "$ xhost local:root \n",
    "$ docker run --user ue4 --privileged --gpus all --net=host -v /tmp/.X11-unix:/tmp/.X11-unix:rw -e DISPLAY=:1 -e SDL_VIDEODRIVER=x11 carla_lidar_sim /bin/bash /home/ue4/carla/Dist/CARLA_Shipping_9071d25-dirty/LinuxNoEditor/CarlaUE4.sh\n",
    "```\n",
    "\n",
    "<img src=\"workshops_images/boot_carla.png\" alt=\"What should appear when booting up CARLA image\">\n",
    "\n",
    "Note here that the `--user ue4` option is mandatory since the unreal engine (the underlying engine ontop of which CARLA is built cannot run as root).\n",
    "\n",
    "From that point, it is possible to move around the world by using the ASDW keys and the mouse. Briefly, the CARLA engine works as a server which accepts commands from a specialized CARLA client. Since this workshop is not a tutorial on CARLA, please refer to [the CARLA documention](https://carla.readthedocs.io/en/latest/) in order to use this server. The only things different with the vanilla version of CARLA is the `semantic LiDAR` and the new camera blueprints called `diffuse_color` and `specular_metallic_roughness` which work the same way as the other cameras.\n",
    "\n",
    "The last thing to do is install the CARLA client python library specially built for this version of CARLA. It is stored at the top of this gitlab repo (`carla-0.9.13-cp38-cp38-linux_x86_64.whl`). Just install it using:\n",
    "\n",
    "```console\n",
    "$ pip install carla-0.9.13-cp38-cp38-linux_x86_64.whl\n",
    "```\n",
    "Note, this python library only works for `python 3.8`. At any point, the only way to kill the CARLA server is by stopping/removing the container using `docker`.\n",
    "\n",
    "Generate Raw Data\n",
    "----------------------------\n",
    "\n",
    "The `lidar_carla_sim` python package has been developed to generate raw data using the CARLA client API. After `pip install`ing it and running the CARLA server in a docker container, it is possible to start simulating raw data."
   ]
  },
  {
   "cell_type": "code",
   "execution_count": 6,
   "id": "d6e4b4fe",
   "metadata": {},
   "outputs": [],
   "source": [
    "import os\n",
    "\n",
    "from litl_simulator import LiDARSim"
   ]
  },
  {
   "cell_type": "code",
   "execution_count": 1,
   "id": "cafd201b",
   "metadata": {},
   "outputs": [
    {
     "name": "stderr",
     "output_type": "stream",
     "text": [
      "INFO:LiDARSim:Synchro = True, fixed delta seconds = 0.1, TM synchronous\n",
      "INFO:ActorManager:Destroying all already existing actors.\n"
     ]
    }
   ],
   "source": [
    "# There are multiple maps in CARLA. In order to use the other ones, uncomment the following lines.\n",
    "# Changing worlds need to be done before using the LiDARSim object.\n",
    "# import carla\n",
    "# client = carla.Client('localhost', 2000)  # create carla client\n",
    "# worlds = [world for world in client.get_available_maps() if 'Opt' in world]  # list of available worlds\n",
    "# world = worlds[5]  # choose world\n",
    "# client.load_world(world)  # load world\n",
    "\n",
    "# create simulation object\n",
    "sim = LiDARSim(\n",
    "    fixed_delta_seconds=0.1,  # time resolution for each world tick (seconds)\n",
    "    # loglevel=logging.DEBUG,  # logging option use this to see more logs\n",
    "    timeout=100,  # (seconds) timeout before client decides to throw error. Use this in case your computer is super slow\n",
    ")"
   ]
  },
  {
   "cell_type": "code",
   "execution_count": 2,
   "id": "ddacb74d",
   "metadata": {},
   "outputs": [
    {
     "name": "stderr",
     "output_type": "stream",
     "text": [
      "INFO:LiDARSim:Running simulation...\n",
      "INFO:LiDARSim:Simulation stopped. Total simulation time: 17.9s.\n"
     ]
    }
   ],
   "source": [
    "# NOTE: after creating the LiDARSim object, the CARLA server will be set in \"synchronous\" mode where each\n",
    "# world tick is controlled by the client object. Thus, it will appear as the server is frozen but it has\n",
    "# not crashed! It is just paused by the client actually. In order to still travel the world, you need to call\n",
    "# the run method.\n",
    "\n",
    "sim.run()  # use the stop button in jupyter notebook to continue (this is an underlying while True method.)"
   ]
  },
  {
   "cell_type": "code",
   "execution_count": 2,
   "id": "bef1407a",
   "metadata": {},
   "outputs": [
    {
     "name": "stderr",
     "output_type": "stream",
     "text": [
      "INFO:ActorManager:Spawning maximum 60 vehicles.\n",
      "INFO:ActorManager:Spawning first 1 regular vehicle.\n",
      "INFO:ActorManager:Spawning maximum 59 vehicles of any type.\n",
      "INFO:ActorManager:Managed to spawn a total of 60 vehicles!\n",
      "INFO:ActorManager:Setting ego vehicle...\n",
      "INFO:ActorManager:The ego vehicle is a 'mercedes coupe 2020'.\n",
      "INFO:ActorManager:Setting pedestrian_cross_factor to 50%\n",
      "INFO:ActorManager:Managed to spawn n=50 pedestrians! With 10% chance running.\n"
     ]
    }
   ],
   "source": [
    "# spawn ego vehicle and NPC vehicles at random locations\n",
    "sim.spawn_npc_vehicles(\n",
    "    max_n_vehicles=60,  # max number of vehicles. Note: if too high CARLA might not be able to spawn them all\n",
    "    ego=True,  # spawn or not the ego vehicle. If set to False it will be impossible to spawn sensors.\n",
    ")\n",
    "# spawn pedestrians\n",
    "sim.spawn_npc_pedestrians(\n",
    "    max_n_pedestrians=50,  # same meaning as max_n_vehicles\n",
    "    percentage_pedestrians_running=10,  # self explanatory\n",
    "    percentage_pedestrians_crossing=50,  # % chance that a pedestrian decides to cross the street\n",
    ")"
   ]
  },
  {
   "cell_type": "code",
   "execution_count": null,
   "id": "74a41e4d",
   "metadata": {},
   "outputs": [],
   "source": [
    "# NOTE 1: as mentioned, it is possible that the number of spawned actors is less than what is asked.\n",
    "# In order to spawn more you might need to let the engine run for a while and then retry to spawn more.\n",
    "# This is because there is a limited number of spawn points and depending on the actors, if there is\n",
    "# an overlap, spawning will fail.\n",
    "#\n",
    "# NOTE 2: Upon spawn, the Traffic Manager from CARLA make the cars move at random destination. If there are\n",
    "# too many cars, traffic might happen and sometimes everything can be blocked indefinitely.\n",
    "# If that happens, you might want to restart the simulation (just restart the notebook kernels and rerun cells)\n",
    "# When you initialize a LiDARSim object, all actors are destroyed.\n",
    "#\n",
    "# NOTE 3: Pedestrians are also initialized with an AI so that they move at random locations.\n",
    "#\n",
    "# NOTE 4: Vehicles are spawned slightly in the air as to prevent weird collisions with the ground.\n",
    "# It is thus necessary to run the simulation for a while after spawning vehicles in order to give them time\n",
    "# to drop.\n",
    "\n",
    "# To see the world being alive: just call the sim.run() function again. You'll be able to move around then.\n",
    "sim.run()  # use 'stop' button from jupyter to stop simulation"
   ]
  },
  {
   "cell_type": "code",
   "execution_count": 3,
   "id": "dd5dacfa",
   "metadata": {},
   "outputs": [
    {
     "name": "stderr",
     "output_type": "stream",
     "text": [
      "INFO:LiDARSim:Running simulation...\n",
      "INFO:LiDARSim:Simulation stopped. Total simulation time: 2.2s.\n"
     ]
    }
   ],
   "source": [
    "# To follow an actor while the engine is running, use the 'watch' argument.\n",
    "sim.run(\n",
    "    watch=sim.ego_vehicle,  # to follow ego vehicle\n",
    "    # watch=sim.actor_manager.pedestrians[0],  # to follow a pedestrian\n",
    "    # watch=sim.actor_manager.vehicles[0],  # to follow a NPC vehicle\n",
    ")"
   ]
  },
  {
   "cell_type": "code",
   "execution_count": 4,
   "id": "88ab9bc6",
   "metadata": {},
   "outputs": [
    {
     "name": "stderr",
     "output_type": "stream",
     "text": [
      "INFO:ActorManager:Spawning LiDAR.\n",
      "INFO:ActorManager:LiDAR points/rot/laser set to 4375 gives 28000000 total pts/s.\n",
      "INFO:ActorManager:Setting LiDAR's range = 120.\n",
      "INFO:ActorManager:Setting LiDAR's channels = 640.\n",
      "INFO:ActorManager:Setting LiDAR's lower_fov = -10.\n",
      "INFO:ActorManager:Setting LiDAR's rotation_frequency = 10.\n",
      "INFO:ActorManager:Setting LiDAR's upper_fov = 10.\n",
      "INFO:ActorManager:Setting LiDAR's horizontal_fov = 360.\n",
      "INFO:ActorManager:Setting LiDAR's points_per_second = 28000000.\n",
      "INFO:ActorManager:Spawning Ego vehicle's cameras.\n"
     ]
    }
   ],
   "source": [
    "# Now that you're satisfied with the simulation setup, you can now spawn the sensors.\n",
    "# NOTE 1: sensors spawn on top of the ego vehicle's position (use z argument to change the height).\n",
    "# NOTE 2: sensors are invisible; you won't see them in the simulation environment.\n",
    "\n",
    "upsampling = 5  # LiDAR upsampling ratio. This multiplies the number of channels and pts / channel\n",
    "                # Remember this setting for later as it will be used to simulate multiple echo effects\n",
    "                # by downsampling multiple adjacent points into the same wavefront.\n",
    "\n",
    "sim.spawn_lidar(\n",
    "    z=2.4,  # height of sensors (not just LiDAR) above GROUND (in meters)\n",
    "    range_=120,  # maximum LiDAR range (in meters)\n",
    "    lower_fov=-10, upper_fov=10,  # Vertical FOV in degrees\n",
    "    rotation_frequency=10,        # Number of rotation in Hz. Preferably this should be 1 / fixed_delta_seconds\n",
    "                                  # Such that each physical tick contains a whole rotation (since data is\n",
    "                                  # saved on disk for each frame). Otherwise data should be merged together \n",
    "                                  # prior to simulation pipeline.\n",
    "    horizontal_fov=360,  # Horizontal FOV\n",
    "    points_per_rotation_per_laser=875 * upsampling,  # number of raw points per channel per rotation\n",
    "    channels=128 * upsampling,  # number of raw channel\n",
    "    )\n",
    "\n",
    "# The following will spawn all the cameras at the same location as the LiDAR\n",
    "# There will be 4 cameras for each type of camera.\n",
    "# Each camera for a given type is rotated by 90 degrees from each other such that they see all around.\n",
    "sim.spawn_cameras(1280, 800)  # Image size in pixels (width, height)."
   ]
  },
  {
   "cell_type": "code",
   "execution_count": 8,
   "id": "11db1edf",
   "metadata": {},
   "outputs": [
    {
     "name": "stderr",
     "output_type": "stream",
     "text": [
      "INFO:LiDARSim:Running simulation...\n",
      "INFO:LiDARSim:Simulation progress: 10 %\n",
      "INFO:LiDARSim:Simulation progress: 20 %\n",
      "INFO:LiDARSim:Simulation progress: 30 %\n",
      "INFO:LiDARSim:Simulation progress: 40 %\n",
      "INFO:LiDARSim:Simulation progress: 50 %\n",
      "INFO:LiDARSim:Simulation progress: 60 %\n",
      "INFO:LiDARSim:Simulation progress: 70 %\n",
      "INFO:LiDARSim:Simulation progress: 80 %\n",
      "INFO:LiDARSim:Simulation progress: 90 %\n",
      "INFO:LiDARSim:Simulation progress: 100 %\n",
      "INFO:LiDARSim:Simulation stopped. Total simulation time: 1.0m1.8s.\n"
     ]
    }
   ],
   "source": [
    "# Now is the time to stop procrastinating and generate the RAW data for simulation\n",
    "# NOTE: setting the 'save_sensors_to' to something else than None will make the sensors save data to disk.\n",
    "# This is super slow!!! So make sure the simulation is set as you'd like BEFORE using this.\n",
    "\n",
    "storage_dir = os.path.expanduser(\"~/Workspace/carla_workshop_data\")\n",
    "sim.run(watch=sim.ego_vehicle,  # optional at this point\n",
    "        # max_frames=500,  # maximum number of frames to save on disk\n",
    "        # save_frame_over_distance=1,  # use this so that only frames where the ego has traveled at least\n",
    "                                       # the given distance (in meters) are stored on disk.\n",
    "                                       # NOTE: this does not mean data is not generated. It is just discarded\n",
    "                                       # and thus the simulation only goes slightly faster whe\n",
    "        # save_every_tick=10,  # save frames at every ticks. As for the 'save_frame_over_distance' arg,\n",
    "                               # sensors actually grab the data at every tick but do not save them on disk\n",
    "                               # it is thus only a slight gain in speed (default is 1)\n",
    "        # max_frames=10, # max number of frames to grabn\n",
    "        max_ticks=10,    # maximum number of world ticks\n",
    "        save_sensors_to=storage_dir,  # directory where data is stored\n",
    "       )"
   ]
  },
  {
   "cell_type": "markdown",
   "id": "ba0b20f6",
   "metadata": {},
   "source": [
    "**Warning:**\n",
    "------------------\n",
    "\n",
    "Unfortunately, if you use either `save_frame_over_distance` or the `save_every_tick` arguments,\n",
    "the pedestrian bounding boxes will be misplaced sometimes. This is a bug and I am not sure where\n",
    "it comes from. If pedestrian bounding boxes do not matter to you, then you can use them without\n",
    "any problem. Otherwise, the trick is to save frames at every ticks and to delete the ones you\n",
    "don't care. This is slower and use more diskspace momentarily :/"
   ]
  },
  {
   "cell_type": "code",
   "execution_count": null,
   "id": "285cae62",
   "metadata": {},
   "outputs": [],
   "source": []
  }
 ],
 "metadata": {
  "kernelspec": {
   "display_name": "Python 3 (ipykernel)",
   "language": "python",
   "name": "python3"
  },
  "language_info": {
   "codemirror_mode": {
    "name": "ipython",
    "version": 3
   },
   "file_extension": ".py",
   "mimetype": "text/x-python",
   "name": "python",
   "nbconvert_exporter": "python",
   "pygments_lexer": "ipython3",
   "version": "3.10.6"
  }
 },
 "nbformat": 4,
 "nbformat_minor": 5
}
